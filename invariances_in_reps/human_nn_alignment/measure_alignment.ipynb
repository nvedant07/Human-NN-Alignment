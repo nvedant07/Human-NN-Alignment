{
 "cells": [
  {
   "cell_type": "code",
   "execution_count": 1,
   "id": "76bb959c",
   "metadata": {},
   "outputs": [
    {
     "name": "stderr",
     "output_type": "stream",
     "text": [
      "/NS/twitter_archive2/work/vnanda/minconda3/envs/dl_base/lib/python3.7/site-packages/paramiko/transport.py:236: CryptographyDeprecationWarning: Blowfish has been deprecated\n",
      "  \"class\": algorithms.Blowfish,\n"
     ]
    }
   ],
   "source": [
    "import os\n",
    "os.environ['CUDA_VISIBLE_DEVICES'] = '1'\n",
    "\n",
    "from matplotlib import pyplot as plt\n",
    "from PIL import Image\n",
    "import glob\n",
    "import numpy as np\n",
    "import scipy.ndimage as nd\n",
    "import itertools\n",
    "import sys\n",
    "sys.path.append('..')\n",
    "import plot_helper as plt_hp\n",
    "import torch\n",
    "torch.backends.cudnn.deterministic = True\n",
    "torch.backends.cudnn.benchmark = False\n",
    "torch.backends.cudnn.enabled = False\n",
    "import lpips"
   ]
  },
  {
   "cell_type": "code",
   "execution_count": 2,
   "id": "f0fcfc6a",
   "metadata": {},
   "outputs": [
    {
     "name": "stdout",
     "output_type": "stream",
     "text": [
      "Setting up [LPIPS] perceptual loss: trunk [alex], v[0.1], spatial [off]\n",
      "Loading model from: /NS/twitter_archive2/work/vnanda/PerceptualSimilarity/lpips/weights/v0.1/alex.pth\n",
      "Setting up [LPIPS] perceptual loss: trunk [vgg16], v[0.1], spatial [off]\n",
      "Setting up [LPIPS] perceptual loss: trunk [vgg16], v[0.1], spatial [off]\n",
      "Loading model from: /NS/twitter_archive2/work/vnanda/PerceptualSimilarity/lpips/weights/v0.1/vgg.pth\n",
      "Setting up [LPIPS] perceptual loss: trunk [vgg16], v[0.1], spatial [off]\n"
     ]
    }
   ],
   "source": [
    "device = torch.device('cuda:0')\n",
    "kwargs_alex_finetuned={'net': 'alex', \n",
    "        'pretrained': True,\n",
    "        'model_path': '<path>'}\n",
    "kwargs_vgg_finetuned={'net': 'vgg16', \n",
    "        'pretrained': True,\n",
    "        'model_path': '<path>'}\n",
    "kwargs_vgg_imagenet={'net': 'vgg16', \n",
    "        'pretrained': False}\n",
    "kwargs_alex_imagenet={'net': 'vgg16', \n",
    "        'pretrained': False}\n",
    "L_objs = [lpips.LPIPS(**kwargs_alex_finetuned).to(device), \n",
    "          lpips.LPIPS(**kwargs_alex_imagenet).to(device), \n",
    "          lpips.LPIPS(**kwargs_vgg_finetuned).to(device), \n",
    "          lpips.LPIPS(**kwargs_vgg_imagenet).to(device)\n",
    "         ]"
   ]
  },
  {
   "cell_type": "code",
   "execution_count": 57,
   "id": "0d628210",
   "metadata": {},
   "outputs": [],
   "source": [
    "model_arch = 'densenet121'\n",
    "# model_arch = 'inceptionv3'\n",
    "# model_arch = 'vgg16'\n",
    "model_arch = 'resnet18'\n",
    "target_image_dataset = 'cifar10'\n",
    "training_dataset = 'cifar10'\n",
    "\n",
    "# model_arch = 'resnet18'\n",
    "# model_arch = 'resnet50'\n",
    "# model_arch = 'vgg16_bn'\n",
    "# target_image_dataset = 'imagenet'\n",
    "# training_dataset = 'imagenet'\n",
    "\n",
    "# append = 'nonrob'\n",
    "# append = 'rob_l2eps3'\n",
    "\n",
    "# append = 'nonrob_rand_seed_2'\n",
    "# append = 'robl2eps1_rand_seed_2'\n",
    "append = 'rob_l2eps1'\n",
    "\n",
    "seed = 'super-noise'\n",
    "# seed = 'light-noise'\n",
    "\n",
    "reg_free = 'reg_free'\n",
    "human_loss = 'reg_free_transforms_True'\n",
    "# human_loss = 'reg_free_transforms_True_fft'\n",
    "# human_loss = 'freq_transforms_True_fft'\n",
    "# human_loss = 'freq'\n",
    "# adv_loss = 'adv_alex_finetuned'\n",
    "adv_loss = 'adv_alex_imagenet' ## use for cifar10\n",
    "\n",
    "# inversion_losses = ['reg_free', 'freq']\n",
    "# transform_robustness = [True, False]\n",
    "# ffts = [True, False]\n",
    "# additional_losses = ['adv_alex_finetuned', 'adv_alex_finetuned_seed', \n",
    "#                      'adv_alex_imagenet', 'adv_alex_imagenet_seed']"
   ]
  },
  {
   "cell_type": "code",
   "execution_count": 54,
   "id": "c27a16d4",
   "metadata": {},
   "outputs": [
    {
     "name": "stdout",
     "output_type": "stream",
     "text": [
      "adv_alex_imagenet\n",
      "[93.0, 1.0, 81.0, 56.0]\n",
      "Alignment: $1.00_{\\pm 0.00}$\n",
      "\n"
     ]
    }
   ],
   "source": [
    "# for loss in [reg_free, human_loss, adv_loss]:\n",
    "for loss in [adv_loss]:\n",
    "    inverted_images_dir = f'./results/generated_images/{training_dataset}/'\\\n",
    "        f'{target_image_dataset}_{model_arch}_{loss}_{append}'\n",
    "    \n",
    "#     seeds = imageio.imread(f'{inverted_images_dir}/{seed}.png')\n",
    "    seeds = np.array(Image.open(f'{inverted_images_dir}/{seed}.png'))\n",
    "    targets, results = None, None\n",
    "    seeds = torch.tensor(np.moveaxis(seeds/255., -1, 0)).to(device)\n",
    "    for result_fpath in glob.glob(f'{inverted_images_dir}/result/*_seed_{seed}.png'):\n",
    "        filename = result_fpath.split('/')[-1]\n",
    "        target_fpath = f'{inverted_images_dir}/target/{filename}'\n",
    "#         target, result = np.moveaxis(imageio.imread(target_fpath)/255., -1, 0), \\\n",
    "#             np.moveaxis(imageio.imread(result_fpath)/255., -1, 0)\n",
    "        target, result = np.moveaxis(np.array(Image.open(target_fpath))/255., -1, 0), \\\n",
    "            np.moveaxis(np.array(Image.open(result_fpath))/255., -1, 0)\n",
    "        target, result = torch.tensor(target).to(device).unsqueeze(0), \\\n",
    "            torch.tensor(result).to(device).unsqueeze(0)\n",
    "        targets = target if targets is None else torch.cat((targets, target))\n",
    "        results = result if results is None else torch.cat((results, result))\n",
    "    seeds = torch.ones((len(targets), *seeds.shape), device=device) * \\\n",
    "        seeds.unsqueeze(0)\n",
    "    \n",
    "    print (loss)\n",
    "    alignments = []\n",
    "    for L in L_objs:\n",
    "        d_res_seed = L(results.float(), seeds.float(), normalize=True).squeeze()\n",
    "        d_res_target = L(results.float(), targets.float(), normalize=True).squeeze()    \n",
    "        alignments.append(100 * torch.sum(d_res_target <= d_res_seed).item()/len(results))\n",
    "    print (alignments)\n",
    "    if loss == adv_loss:\n",
    "        print (f'Alignment: ${np.mean(alignments[1:2]):.2f}_{{\\pm {np.std(alignments[1:2]):.2f}}}$')\n",
    "    else:\n",
    "        print (f'Alignment: ${np.mean(alignments):.2f}_{{\\pm {np.std(alignments):.2f}}}$')\n",
    "    print ()\n",
    "    d_res_target, d_res_seed, targets, results, seeds = None, None, None, None, None\n",
    "    torch.cuda.empty_cache()"
   ]
  },
  {
   "cell_type": "code",
   "execution_count": 40,
   "id": "66bc4171",
   "metadata": {},
   "outputs": [],
   "source": [
    "def measure_alignment(target_dataset, source_dataset, architectures, appends):\n",
    "    alignments_mean, alignments_std = [], []\n",
    "    for a in appends:\n",
    "        means, stds = [], []\n",
    "        for arch in architectures:\n",
    "            inverted_images_dir = f'./results/generated_images/{source_dataset}/{target_dataset}_{arch}_{a}'\n",
    "\n",
    "            seeds = np.array(Image.open(f'{inverted_images_dir}/{seed}.png'))\n",
    "            targets, results = None, None\n",
    "            seeds = torch.tensor(np.moveaxis(seeds/255., -1, 0)).to(device)\n",
    "            for result_fpath in glob.glob(f'{inverted_images_dir}/result/*_seed_{seed}.png'):\n",
    "                filename = result_fpath.split('/')[-1]\n",
    "                target_fpath = f'{inverted_images_dir}/target/{filename}'\n",
    "                target, result = np.moveaxis(np.array(Image.open(target_fpath))/255., -1, 0), \\\n",
    "                    np.moveaxis(np.array(Image.open(result_fpath))/255., -1, 0)\n",
    "                target, result = torch.tensor(target).to(device).unsqueeze(0), \\\n",
    "                    torch.tensor(result).to(device).unsqueeze(0)\n",
    "                targets = target if targets is None else torch.cat((targets, target))\n",
    "                results = result if results is None else torch.cat((results, result))\n",
    "            seeds = torch.ones((len(targets), *seeds.shape), device=device) * seeds.unsqueeze(0)\n",
    "\n",
    "            alignments = []\n",
    "            for L in L_objs:\n",
    "                d_res_seed = L(results.float(), seeds.float(), normalize=True).squeeze()\n",
    "                d_res_target = L(results.float(), targets.float(), normalize=True).squeeze()    \n",
    "                alignments.append(100 * torch.sum(d_res_target <= d_res_seed).item()/len(results))\n",
    "\n",
    "            means.append(np.mean(alignments))\n",
    "            stds.append(np.std(alignments))\n",
    "\n",
    "        alignments_mean.append(means)\n",
    "        alignments_std.append(stds)\n",
    "    return alignments_mean, alignments_std"
   ]
  },
  {
   "cell_type": "markdown",
   "id": "aceab735",
   "metadata": {},
   "source": [
    "## Model Architecture and Loss Functions"
   ]
  },
  {
   "cell_type": "code",
   "execution_count": 58,
   "id": "0d8d0e16",
   "metadata": {},
   "outputs": [],
   "source": [
    "# target_dataset = 'cifar10'\n",
    "# source_dataset = 'cifar10'\n",
    "# architectures = ['resnet18', 'densenet121', 'vgg16', 'inceptionv3']\n",
    "# appends = ['reg_free_nonrob_rand_seed_2', \n",
    "#            'reg_free_robl2eps1_rand_seed_2',\n",
    "#            'reg_free_tradesbeta0.1eps1',\n",
    "#            'reg_free_tradesbeta1eps1',\n",
    "#            'reg_free_tradesbeta6eps1',\n",
    "#            'reg_free_tradesbeta10eps1',\n",
    "#            'reg_free_martbeta0.1eps1',\n",
    "#            'reg_free_martbeta1eps1',\n",
    "#            'reg_free_martbeta6eps1',\n",
    "#            'reg_free_martbeta10eps1']\n",
    "# legend_vals = ['Standard', 'AT', \n",
    "#                'TRADES (0.1)', 'TRADES (1)', \n",
    "#                'TRADES (6)', 'TRADES (10)', \n",
    "#                'MART (0.1)', 'MART (1)', \n",
    "#                'MART (6)', 'MART (10)']\n",
    "target_dataset = 'imagenet'\n",
    "source_dataset = 'imagenet'\n",
    "architectures = ['resnet18', 'resnet50', 'vgg16']\n",
    "appends = ['reg_free_nonrob', \n",
    "           'reg_free_rob_l2eps3']\n",
    "legend_vals = ['Standard', 'AT']\n",
    "\n",
    "markers = ['s','^',] + ['o'] * (len(appends) - 2)"
   ]
  },
  {
   "cell_type": "code",
   "execution_count": 59,
   "id": "fe60aacc",
   "metadata": {},
   "outputs": [
    {
     "ename": "FileNotFoundError",
     "evalue": "[Errno 2] No such file or directory: './results/generated_images/imagenet/imagenet_vgg16_reg_free_nonrob/super-noise.png'",
     "output_type": "error",
     "traceback": [
      "\u001b[0;31m---------------------------------------------------------------------------\u001b[0m",
      "\u001b[0;31mFileNotFoundError\u001b[0m                         Traceback (most recent call last)",
      "\u001b[0;32m/tmp/ipykernel_1914281/2738094499.py\u001b[0m in \u001b[0;36m<module>\u001b[0;34m\u001b[0m\n\u001b[1;32m      1\u001b[0m \u001b[0malignments_mean\u001b[0m\u001b[0;34m,\u001b[0m \u001b[0malignments_std\u001b[0m \u001b[0;34m=\u001b[0m\u001b[0;31m \u001b[0m\u001b[0;31m\\\u001b[0m\u001b[0;34m\u001b[0m\u001b[0;34m\u001b[0m\u001b[0m\n\u001b[0;32m----> 2\u001b[0;31m     \u001b[0mmeasure_alignment\u001b[0m\u001b[0;34m(\u001b[0m\u001b[0mtarget_dataset\u001b[0m\u001b[0;34m,\u001b[0m \u001b[0msource_dataset\u001b[0m\u001b[0;34m,\u001b[0m \u001b[0marchitectures\u001b[0m\u001b[0;34m,\u001b[0m \u001b[0mappends\u001b[0m\u001b[0;34m)\u001b[0m\u001b[0;34m\u001b[0m\u001b[0;34m\u001b[0m\u001b[0m\n\u001b[0m",
      "\u001b[0;32m/tmp/ipykernel_1914281/856652840.py\u001b[0m in \u001b[0;36mmeasure_alignment\u001b[0;34m(target_dataset, source_dataset, architectures, appends)\u001b[0m\n\u001b[1;32m      6\u001b[0m             \u001b[0minverted_images_dir\u001b[0m \u001b[0;34m=\u001b[0m \u001b[0;34mf'./results/generated_images/{source_dataset}/{target_dataset}_{arch}_{a}'\u001b[0m\u001b[0;34m\u001b[0m\u001b[0;34m\u001b[0m\u001b[0m\n\u001b[1;32m      7\u001b[0m \u001b[0;34m\u001b[0m\u001b[0m\n\u001b[0;32m----> 8\u001b[0;31m             \u001b[0mseeds\u001b[0m \u001b[0;34m=\u001b[0m \u001b[0mnp\u001b[0m\u001b[0;34m.\u001b[0m\u001b[0marray\u001b[0m\u001b[0;34m(\u001b[0m\u001b[0mImage\u001b[0m\u001b[0;34m.\u001b[0m\u001b[0mopen\u001b[0m\u001b[0;34m(\u001b[0m\u001b[0;34mf'{inverted_images_dir}/{seed}.png'\u001b[0m\u001b[0;34m)\u001b[0m\u001b[0;34m)\u001b[0m\u001b[0;34m\u001b[0m\u001b[0;34m\u001b[0m\u001b[0m\n\u001b[0m\u001b[1;32m      9\u001b[0m             \u001b[0mtargets\u001b[0m\u001b[0;34m,\u001b[0m \u001b[0mresults\u001b[0m \u001b[0;34m=\u001b[0m \u001b[0;32mNone\u001b[0m\u001b[0;34m,\u001b[0m \u001b[0;32mNone\u001b[0m\u001b[0;34m\u001b[0m\u001b[0;34m\u001b[0m\u001b[0m\n\u001b[1;32m     10\u001b[0m             \u001b[0mseeds\u001b[0m \u001b[0;34m=\u001b[0m \u001b[0mtorch\u001b[0m\u001b[0;34m.\u001b[0m\u001b[0mtensor\u001b[0m\u001b[0;34m(\u001b[0m\u001b[0mnp\u001b[0m\u001b[0;34m.\u001b[0m\u001b[0mmoveaxis\u001b[0m\u001b[0;34m(\u001b[0m\u001b[0mseeds\u001b[0m\u001b[0;34m/\u001b[0m\u001b[0;36m255.\u001b[0m\u001b[0;34m,\u001b[0m \u001b[0;34m-\u001b[0m\u001b[0;36m1\u001b[0m\u001b[0;34m,\u001b[0m \u001b[0;36m0\u001b[0m\u001b[0;34m)\u001b[0m\u001b[0;34m)\u001b[0m\u001b[0;34m.\u001b[0m\u001b[0mto\u001b[0m\u001b[0;34m(\u001b[0m\u001b[0mdevice\u001b[0m\u001b[0;34m)\u001b[0m\u001b[0;34m\u001b[0m\u001b[0;34m\u001b[0m\u001b[0m\n",
      "\u001b[0;32m/NS/twitter_archive2/work/vnanda/minconda3/envs/dl_base/lib/python3.7/site-packages/PIL/Image.py\u001b[0m in \u001b[0;36mopen\u001b[0;34m(fp, mode, formats)\u001b[0m\n\u001b[1;32m   2951\u001b[0m \u001b[0;34m\u001b[0m\u001b[0m\n\u001b[1;32m   2952\u001b[0m     \u001b[0;32mif\u001b[0m \u001b[0mfilename\u001b[0m\u001b[0;34m:\u001b[0m\u001b[0;34m\u001b[0m\u001b[0;34m\u001b[0m\u001b[0m\n\u001b[0;32m-> 2953\u001b[0;31m         \u001b[0mfp\u001b[0m \u001b[0;34m=\u001b[0m \u001b[0mbuiltins\u001b[0m\u001b[0;34m.\u001b[0m\u001b[0mopen\u001b[0m\u001b[0;34m(\u001b[0m\u001b[0mfilename\u001b[0m\u001b[0;34m,\u001b[0m \u001b[0;34m\"rb\"\u001b[0m\u001b[0;34m)\u001b[0m\u001b[0;34m\u001b[0m\u001b[0;34m\u001b[0m\u001b[0m\n\u001b[0m\u001b[1;32m   2954\u001b[0m         \u001b[0mexclusive_fp\u001b[0m \u001b[0;34m=\u001b[0m \u001b[0;32mTrue\u001b[0m\u001b[0;34m\u001b[0m\u001b[0;34m\u001b[0m\u001b[0m\n\u001b[1;32m   2955\u001b[0m \u001b[0;34m\u001b[0m\u001b[0m\n",
      "\u001b[0;31mFileNotFoundError\u001b[0m: [Errno 2] No such file or directory: './results/generated_images/imagenet/imagenet_vgg16_reg_free_nonrob/super-noise.png'"
     ]
    }
   ],
   "source": [
    "alignments_mean, alignments_std = \\\n",
    "    measure_alignment(target_dataset, source_dataset, architectures, appends)"
   ]
  },
  {
   "cell_type": "code",
   "execution_count": null,
   "id": "36339444",
   "metadata": {},
   "outputs": [],
   "source": [
    "import importlib\n",
    "importlib.reload(plt_hp)"
   ]
  },
  {
   "cell_type": "code",
   "execution_count": null,
   "id": "06475468",
   "metadata": {},
   "outputs": [],
   "source": [
    "x_vals = [np.arange(len(architectures))] * len(alignments_mean)\n",
    "plt_hp.scatter_plot(x_vals, alignments_mean, \n",
    "                    labels=None, plot_title='', subfolder='alignment_due_to_loss_and_archs', \n",
    "                    filename=f'{target_dataset}_alignment_robust_vs_nonrobust_scatter', \n",
    "                    x_label='Architecture', y_label='Alignment', extension='pdf', figsize=(8,6), \n",
    "                    x_ticklabels=architectures, x_err=None, y_err=alignments_std, \n",
    "                    legend_vals=legend_vals, paper_friendly_plots=True, \n",
    "                    markers=markers, sizes=[25,25] + [20] * (len(x_vals) - 2), \n",
    "                    results_subfolder_name=source_dataset,\n",
    "                    legend_ncol=3)"
   ]
  },
  {
   "cell_type": "markdown",
   "id": "e6020f91",
   "metadata": {},
   "source": [
    "## Data Augmentation"
   ]
  },
  {
   "cell_type": "code",
   "execution_count": 29,
   "id": "c8c5ca1c",
   "metadata": {},
   "outputs": [],
   "source": [
    "target_dataset = 'cifar10'\n",
    "source_dataset = 'cifar10'\n",
    "architectures = ['resnet18', 'densenet121', 'vgg16', 'inceptionv3']\n",
    "\n",
    "nonrob_appends = ['reg_free_nonrob_rand_seed_2', 'reg_free_nonrob_simclraug']\n",
    "rob_appends = ['reg_free_robl2eps1_rand_seed_2', 'reg_free_rob_noaug']\n",
    "\n",
    "\n",
    "alignments_mean_nonrob, alignments_std_nonrob = measure_alignment(target_dataset, source_dataset, \n",
    "                                                    architectures, nonrob_appends)\n",
    "alignments_mean_rob, alignments_std_rob = measure_alignment(target_dataset, source_dataset, \n",
    "                                                    architectures, rob_appends)"
   ]
  },
  {
   "cell_type": "code",
   "execution_count": 36,
   "id": "98d6790d",
   "metadata": {
    "scrolled": true
   },
   "outputs": [
    {
     "name": "stdout",
     "output_type": "stream",
     "text": [
      "reg_free_nonrob_rand_seed_2, resnet18, $0.00_{\\pm 0.00}$\n",
      "reg_free_nonrob_rand_seed_2, densenet121, $0.00_{\\pm 0.00}$\n",
      "reg_free_nonrob_rand_seed_2, vgg16, $0.00_{\\pm 0.00}$\n",
      "reg_free_nonrob_rand_seed_2, inceptionv3, $0.00_{\\pm 0.00}$\n",
      "reg_free_nonrob_simclraug, resnet18, $0.00_{\\pm 0.00}$\n",
      "reg_free_nonrob_simclraug, densenet121, $1.00_{\\pm 1.73}$\n",
      "reg_free_nonrob_simclraug, vgg16, $0.00_{\\pm 0.00}$\n",
      "reg_free_nonrob_simclraug, inceptionv3, $0.00_{\\pm 0.00}$\n",
      "\n",
      "\n",
      "reg_free_robl2eps1_rand_seed_2, resnet18, $76.50_{\\pm 15.91}$\n",
      "reg_free_robl2eps1_rand_seed_2, densenet121, $93.50_{\\pm 9.60}$\n",
      "reg_free_robl2eps1_rand_seed_2, vgg16, $0.25_{\\pm 0.43}$\n",
      "reg_free_robl2eps1_rand_seed_2, inceptionv3, $24.25_{\\pm 25.17}$\n",
      "reg_free_rob_noaug, resnet18, $30.00_{\\pm 12.02}$\n",
      "reg_free_rob_noaug, densenet121, $93.75_{\\pm 8.20}$\n",
      "reg_free_rob_noaug, vgg16, $1.00_{\\pm 1.73}$\n",
      "reg_free_rob_noaug, inceptionv3, $12.25_{\\pm 20.08}$\n"
     ]
    }
   ],
   "source": [
    "for a, means, stds in zip(nonrob_appends, alignments_mean_nonrob, alignments_std_nonrob):\n",
    "    for arch, m, s in zip(architectures, means, stds):\n",
    "        print (f'{a}, {arch}, ${m:.2f}_{{\\pm {s:.2f}}}$')\n",
    "print ()\n",
    "print ()\n",
    "for a, means, stds in zip(rob_appends, alignments_mean_rob, alignments_std_rob):\n",
    "    for arch, m, s in zip(architectures, means, stds):\n",
    "        print (f'{a}, {arch}, ${m:.2f}_{{\\pm {s:.2f}}}$')"
   ]
  },
  {
   "cell_type": "markdown",
   "id": "069d0e14",
   "metadata": {},
   "source": [
    "## SimCLR"
   ]
  },
  {
   "cell_type": "code",
   "execution_count": 124,
   "id": "fb594d00",
   "metadata": {},
   "outputs": [],
   "source": [
    "# target_dataset = 'cifar10'\n",
    "# source_dataset = 'cifar10'\n",
    "target_dataset = 'cifar100'\n",
    "source_dataset = 'cifar100'\n",
    "architectures = ['resnet18']\n",
    "\n",
    "epochs = range(49, 1000, 50)\n",
    "\n",
    "appends_all = [f'reg_free_simclr_all_{e}' for e in epochs]\n",
    "appends_nocolor = [f'reg_free_simclr_nocolor_{e}' for e in epochs]\n",
    "appends_adv = [f'reg_free_simclr_adv_{e}' for e in epochs]\n",
    "\n",
    "# appends_sup_rob = ['reg_free_robl2eps1_rand_seed_2']\n",
    "appends_sup_rob = ['reg_free_rob_l2eps1']\n",
    "\n",
    "alignments_mean_all, alignments_std_all = measure_alignment(target_dataset, source_dataset, \n",
    "                                                    architectures, appends_all)\n",
    "alignments_mean_nocolor, alignments_std_nocolor = measure_alignment(target_dataset, source_dataset, \n",
    "                                                    architectures, appends_nocolor)\n",
    "alignments_mean_adv, alignments_std_adv = measure_alignment(target_dataset, source_dataset, \n",
    "                                                    architectures, appends_adv)\n",
    "alignments_mean_sup, alignments_std_sup = measure_alignment(target_dataset, source_dataset, \n",
    "                                                    architectures, appends_sup_rob)"
   ]
  },
  {
   "cell_type": "code",
   "execution_count": 125,
   "id": "66271433",
   "metadata": {},
   "outputs": [],
   "source": [
    "alignments_mean_adv, alignments_std_adv = \\\n",
    "    np.array(alignments_mean_adv).squeeze(), np.array(alignments_std_adv).squeeze()\n",
    "alignments_mean_nocolor, alignments_std_nocolor = \\\n",
    "    np.array(alignments_mean_nocolor).squeeze(), np.array(alignments_std_nocolor).squeeze()\n",
    "alignments_mean_all, alignments_std_all = \\\n",
    "    np.array(alignments_mean_all).squeeze(), np.array(alignments_std_all).squeeze()\n",
    "alignments_mean_sup, alignments_std_sup = np.array(alignments_mean_sup).squeeze(), \\\n",
    "    np.array(alignments_std_sup).squeeze()"
   ]
  },
  {
   "cell_type": "code",
   "execution_count": 127,
   "id": "fbc536d4",
   "metadata": {},
   "outputs": [
    {
     "data": {
      "text/plain": [
       "(array(63.25), array(26.23332804))"
      ]
     },
     "execution_count": 127,
     "metadata": {},
     "output_type": "execute_result"
    }
   ],
   "source": [
    "alignments_mean_sup, alignments_std_sup"
   ]
  },
  {
   "cell_type": "code",
   "execution_count": 129,
   "id": "8ab1438e",
   "metadata": {},
   "outputs": [
    {
     "name": "stderr",
     "output_type": "stream",
     "text": [
      "../plot_helper.py:102: UserWarning: marker is redundantly defined by the 'marker' keyword argument and the fmt string \"o\" (-> marker='o'). The keyword argument will take precedence.\n",
      "  label=legend_vals[i] if legend_vals is not None else \"\")\n",
      "../plot_helper.py:102: UserWarning: marker is redundantly defined by the 'marker' keyword argument and the fmt string \"o\" (-> marker='o'). The keyword argument will take precedence.\n",
      "  label=legend_vals[i] if legend_vals is not None else \"\")\n",
      "../plot_helper.py:102: UserWarning: marker is redundantly defined by the 'marker' keyword argument and the fmt string \"o\" (-> marker='o'). The keyword argument will take precedence.\n",
      "  label=legend_vals[i] if legend_vals is not None else \"\")\n"
     ]
    },
    {
     "data": {
      "image/png": "[encoded data removed]",
      "text/plain": [
       "<Figure size 500x200 with 1 Axes>"
      ]
     },
     "metadata": {
      "needs_background": "light"
     },
     "output_type": "display_data"
    },
    {
     "data": {
      "text/plain": [
       "'results/cifar10/alignment_due_to_training_paradigm/cifar10_resnet18_simclr.pdf'"
      ]
     },
     "execution_count": 129,
     "metadata": {},
     "output_type": "execute_result"
    }
   ],
   "source": [
    "plt_hp.line_plot([alignments_mean_all, alignments_mean_adv, alignments_mean_nocolor], \n",
    "                 'Epoch', 'Alignment', '', 'alignment_due_to_training_paradigm', \n",
    "                 f'{target_dataset}_{architectures[0]}_simclr', extension='png', \n",
    "                 x_vals=list(epochs), vertical_line=None, \n",
    "                 legend_vals=['SimCLR DA', 'SimCLR (DA + Adv)', \n",
    "                              'SimCLR (DA - color)', 'Supervised AT\\n(best model)'], \n",
    "                 horizontal_lines=[float(alignments_mean_sup)], \n",
    "                 horizontal_lines_err=[float(alignments_std_sup)], \n",
    "                 colors=None, linestyles=['-', '-', '-', '--'],legend_ncol=2,\n",
    "                 y_lims=None, root_dir='.', paper_friendly_plots=True, plot_inside=False, \n",
    "                 legend_location='best', savefig=True, figsize=(10,4), \n",
    "                 marker=['o', 'o', 'o', 'o'], results_subfolder_name=source_dataset, \n",
    "                 grid_spacing=None, y_err=[alignments_std_all, alignments_std_adv, alignments_std_nocolor])"
   ]
  },
  {
   "cell_type": "code",
   "execution_count": null,
   "id": "2c753f90",
   "metadata": {},
   "outputs": [],
   "source": []
  }
 ],
 "metadata": {
  "kernelspec": {
   "display_name": "Python 3 (ipykernel)",
   "language": "python",
   "name": "python3"
  },
  "language_info": {
   "codemirror_mode": {
    "name": "ipython",
    "version": 3
   },
   "file_extension": ".py",
   "mimetype": "text/x-python",
   "name": "python",
   "nbconvert_exporter": "python",
   "pygments_lexer": "ipython3",
   "version": "3.7.9"
  }
 },
 "nbformat": 4,
 "nbformat_minor": 5
}
